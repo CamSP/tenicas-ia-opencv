{
 "cells": [
  {
   "cell_type": "code",
   "execution_count": 4,
   "id": "783514d1",
   "metadata": {},
   "outputs": [],
   "source": [
    "import pandas as pd\n",
    "import cv2\n",
    "import numpy as np\n",
    "import sklearn as sk\n",
    "import matplotlib.pyplot as plt"
   ]
  },
  {
   "cell_type": "code",
   "execution_count": 3,
   "id": "897f515b",
   "metadata": {},
   "outputs": [
    {
     "data": {
      "text/html": [
       "<div>\n",
       "<style scoped>\n",
       "    .dataframe tbody tr th:only-of-type {\n",
       "        vertical-align: middle;\n",
       "    }\n",
       "\n",
       "    .dataframe tbody tr th {\n",
       "        vertical-align: top;\n",
       "    }\n",
       "\n",
       "    .dataframe thead th {\n",
       "        text-align: right;\n",
       "    }\n",
       "</style>\n",
       "<table border=\"1\" class=\"dataframe\">\n",
       "  <thead>\n",
       "    <tr style=\"text-align: right;\">\n",
       "      <th></th>\n",
       "      <th>Unnamed: 0</th>\n",
       "      <th>image</th>\n",
       "      <th>class</th>\n",
       "      <th>format</th>\n",
       "      <th>mode</th>\n",
       "      <th>shape</th>\n",
       "    </tr>\n",
       "  </thead>\n",
       "  <tbody>\n",
       "    <tr>\n",
       "      <th>0</th>\n",
       "      <td>0</td>\n",
       "      <td>Cancer (1).jpg</td>\n",
       "      <td>tumor</td>\n",
       "      <td>JPEG</td>\n",
       "      <td>RGB</td>\n",
       "      <td>(512, 512, 3)</td>\n",
       "    </tr>\n",
       "    <tr>\n",
       "      <th>1</th>\n",
       "      <td>1</td>\n",
       "      <td>Cancer (1).png</td>\n",
       "      <td>tumor</td>\n",
       "      <td>PNG</td>\n",
       "      <td>L</td>\n",
       "      <td>(300, 240)</td>\n",
       "    </tr>\n",
       "    <tr>\n",
       "      <th>2</th>\n",
       "      <td>2</td>\n",
       "      <td>Cancer (1).tif</td>\n",
       "      <td>tumor</td>\n",
       "      <td>TIFF</td>\n",
       "      <td>RGB</td>\n",
       "      <td>(256, 256, 3)</td>\n",
       "    </tr>\n",
       "    <tr>\n",
       "      <th>3</th>\n",
       "      <td>3</td>\n",
       "      <td>Cancer (10).jpg</td>\n",
       "      <td>tumor</td>\n",
       "      <td>JPEG</td>\n",
       "      <td>RGB</td>\n",
       "      <td>(512, 512, 3)</td>\n",
       "    </tr>\n",
       "    <tr>\n",
       "      <th>4</th>\n",
       "      <td>4</td>\n",
       "      <td>Cancer (10).tif</td>\n",
       "      <td>tumor</td>\n",
       "      <td>TIFF</td>\n",
       "      <td>RGB</td>\n",
       "      <td>(256, 256, 3)</td>\n",
       "    </tr>\n",
       "  </tbody>\n",
       "</table>\n",
       "</div>"
      ],
      "text/plain": [
       "   Unnamed: 0            image  class format mode          shape\n",
       "0           0   Cancer (1).jpg  tumor   JPEG  RGB  (512, 512, 3)\n",
       "1           1   Cancer (1).png  tumor    PNG    L     (300, 240)\n",
       "2           2   Cancer (1).tif  tumor   TIFF  RGB  (256, 256, 3)\n",
       "3           3  Cancer (10).jpg  tumor   JPEG  RGB  (512, 512, 3)\n",
       "4           4  Cancer (10).tif  tumor   TIFF  RGB  (256, 256, 3)"
      ]
     },
     "execution_count": 3,
     "metadata": {},
     "output_type": "execute_result"
    }
   ],
   "source": [
    "df = pd.read_csv('archive/metadata.csv')\n",
    "df.head()"
   ]
  },
  {
   "cell_type": "code",
   "execution_count": 10,
   "id": "f8464c1a",
   "metadata": {},
   "outputs": [
    {
     "data": {
      "text/plain": [
       "(4600, 6)"
      ]
     },
     "execution_count": 10,
     "metadata": {},
     "output_type": "execute_result"
    }
   ],
   "source": [
    "df.shape"
   ]
  },
  {
   "cell_type": "code",
   "execution_count": 17,
   "id": "b480acca",
   "metadata": {},
   "outputs": [
    {
     "data": {
      "text/plain": [
       "tumor     2513\n",
       "normal    2087\n",
       "Name: class, dtype: int64"
      ]
     },
     "execution_count": 17,
     "metadata": {},
     "output_type": "execute_result"
    }
   ],
   "source": [
    "df[\"class\"].value_counts()"
   ]
  },
  {
   "cell_type": "code",
   "execution_count": 18,
   "id": "5c4f01a6",
   "metadata": {},
   "outputs": [
    {
     "data": {
      "text/plain": [
       "array(['RGB', 'L', 'RGBA', 'P'], dtype=object)"
      ]
     },
     "execution_count": 18,
     "metadata": {},
     "output_type": "execute_result"
    }
   ],
   "source": [
    "df[\"mode\"].unique()"
   ]
  },
  {
   "cell_type": "code",
   "execution_count": 19,
   "id": "c7eb8fb2",
   "metadata": {},
   "outputs": [
    {
     "data": {
      "text/html": [
       "<div>\n",
       "<style scoped>\n",
       "    .dataframe tbody tr th:only-of-type {\n",
       "        vertical-align: middle;\n",
       "    }\n",
       "\n",
       "    .dataframe tbody tr th {\n",
       "        vertical-align: top;\n",
       "    }\n",
       "\n",
       "    .dataframe thead th {\n",
       "        text-align: right;\n",
       "    }\n",
       "</style>\n",
       "<table border=\"1\" class=\"dataframe\">\n",
       "  <thead>\n",
       "    <tr style=\"text-align: right;\">\n",
       "      <th></th>\n",
       "      <th>Unnamed: 0</th>\n",
       "      <th>image</th>\n",
       "      <th>class</th>\n",
       "      <th>format</th>\n",
       "      <th>mode</th>\n",
       "      <th>shape</th>\n",
       "    </tr>\n",
       "  </thead>\n",
       "  <tbody>\n",
       "    <tr>\n",
       "      <th>4129</th>\n",
       "      <td>4129</td>\n",
       "      <td>Not Cancer  (576).jpg</td>\n",
       "      <td>normal</td>\n",
       "      <td>PNG</td>\n",
       "      <td>P</td>\n",
       "      <td>(725, 728)</td>\n",
       "    </tr>\n",
       "    <tr>\n",
       "      <th>4581</th>\n",
       "      <td>4581</td>\n",
       "      <td>Not Cancer  (982).jpg</td>\n",
       "      <td>normal</td>\n",
       "      <td>PNG</td>\n",
       "      <td>P</td>\n",
       "      <td>(725, 728)</td>\n",
       "    </tr>\n",
       "  </tbody>\n",
       "</table>\n",
       "</div>"
      ],
      "text/plain": [
       "      Unnamed: 0                  image   class format mode       shape\n",
       "4129        4129  Not Cancer  (576).jpg  normal    PNG    P  (725, 728)\n",
       "4581        4581  Not Cancer  (982).jpg  normal    PNG    P  (725, 728)"
      ]
     },
     "execution_count": 19,
     "metadata": {},
     "output_type": "execute_result"
    }
   ],
   "source": [
    "df[df[\"mode\"]==\"P\"]"
   ]
  },
  {
   "cell_type": "code",
   "execution_count": 20,
   "id": "f399ef5b",
   "metadata": {},
   "outputs": [
    {
     "data": {
      "text/html": [
       "<div>\n",
       "<style scoped>\n",
       "    .dataframe tbody tr th:only-of-type {\n",
       "        vertical-align: middle;\n",
       "    }\n",
       "\n",
       "    .dataframe tbody tr th {\n",
       "        vertical-align: top;\n",
       "    }\n",
       "\n",
       "    .dataframe thead th {\n",
       "        text-align: right;\n",
       "    }\n",
       "</style>\n",
       "<table border=\"1\" class=\"dataframe\">\n",
       "  <thead>\n",
       "    <tr style=\"text-align: right;\">\n",
       "      <th></th>\n",
       "      <th>Unnamed: 0</th>\n",
       "      <th>image</th>\n",
       "      <th>class</th>\n",
       "      <th>format</th>\n",
       "      <th>mode</th>\n",
       "      <th>shape</th>\n",
       "    </tr>\n",
       "  </thead>\n",
       "  <tbody>\n",
       "    <tr>\n",
       "      <th>1</th>\n",
       "      <td>1</td>\n",
       "      <td>Cancer (1).png</td>\n",
       "      <td>tumor</td>\n",
       "      <td>PNG</td>\n",
       "      <td>L</td>\n",
       "      <td>(300, 240)</td>\n",
       "    </tr>\n",
       "    <tr>\n",
       "      <th>36</th>\n",
       "      <td>36</td>\n",
       "      <td>Cancer (1028).jpg</td>\n",
       "      <td>tumor</td>\n",
       "      <td>JPEG</td>\n",
       "      <td>L</td>\n",
       "      <td>(336, 300)</td>\n",
       "    </tr>\n",
       "    <tr>\n",
       "      <th>239</th>\n",
       "      <td>239</td>\n",
       "      <td>Cancer (1209).jpg</td>\n",
       "      <td>tumor</td>\n",
       "      <td>JPEG</td>\n",
       "      <td>L</td>\n",
       "      <td>(336, 300)</td>\n",
       "    </tr>\n",
       "    <tr>\n",
       "      <th>269</th>\n",
       "      <td>269</td>\n",
       "      <td>Cancer (1236).jpg</td>\n",
       "      <td>tumor</td>\n",
       "      <td>JPEG</td>\n",
       "      <td>L</td>\n",
       "      <td>(1024, 1024)</td>\n",
       "    </tr>\n",
       "    <tr>\n",
       "      <th>293</th>\n",
       "      <td>293</td>\n",
       "      <td>Cancer (1258).jpg</td>\n",
       "      <td>tumor</td>\n",
       "      <td>JPEG</td>\n",
       "      <td>L</td>\n",
       "      <td>(1427, 1275)</td>\n",
       "    </tr>\n",
       "    <tr>\n",
       "      <th>...</th>\n",
       "      <td>...</td>\n",
       "      <td>...</td>\n",
       "      <td>...</td>\n",
       "      <td>...</td>\n",
       "      <td>...</td>\n",
       "      <td>...</td>\n",
       "    </tr>\n",
       "    <tr>\n",
       "      <th>4561</th>\n",
       "      <td>4561</td>\n",
       "      <td>Not Cancer  (964).jpg</td>\n",
       "      <td>normal</td>\n",
       "      <td>JPEG</td>\n",
       "      <td>L</td>\n",
       "      <td>(225, 225)</td>\n",
       "    </tr>\n",
       "    <tr>\n",
       "      <th>4566</th>\n",
       "      <td>4566</td>\n",
       "      <td>Not Cancer  (969).jpg</td>\n",
       "      <td>normal</td>\n",
       "      <td>JPEG</td>\n",
       "      <td>L</td>\n",
       "      <td>(1024, 1024)</td>\n",
       "    </tr>\n",
       "    <tr>\n",
       "      <th>4571</th>\n",
       "      <td>4571</td>\n",
       "      <td>Not Cancer  (973).jpg</td>\n",
       "      <td>normal</td>\n",
       "      <td>JPEG</td>\n",
       "      <td>L</td>\n",
       "      <td>(275, 220)</td>\n",
       "    </tr>\n",
       "    <tr>\n",
       "      <th>4577</th>\n",
       "      <td>4577</td>\n",
       "      <td>Not Cancer  (979).jpg</td>\n",
       "      <td>normal</td>\n",
       "      <td>JPEG</td>\n",
       "      <td>L</td>\n",
       "      <td>(301, 275)</td>\n",
       "    </tr>\n",
       "    <tr>\n",
       "      <th>4583</th>\n",
       "      <td>4583</td>\n",
       "      <td>Not Cancer  (984).jpg</td>\n",
       "      <td>normal</td>\n",
       "      <td>JPEG</td>\n",
       "      <td>L</td>\n",
       "      <td>(442, 409)</td>\n",
       "    </tr>\n",
       "  </tbody>\n",
       "</table>\n",
       "<p>132 rows × 6 columns</p>\n",
       "</div>"
      ],
      "text/plain": [
       "      Unnamed: 0                  image   class format mode         shape\n",
       "1              1         Cancer (1).png   tumor    PNG    L    (300, 240)\n",
       "36            36      Cancer (1028).jpg   tumor   JPEG    L    (336, 300)\n",
       "239          239      Cancer (1209).jpg   tumor   JPEG    L    (336, 300)\n",
       "269          269      Cancer (1236).jpg   tumor   JPEG    L  (1024, 1024)\n",
       "293          293      Cancer (1258).jpg   tumor   JPEG    L  (1427, 1275)\n",
       "...          ...                    ...     ...    ...  ...           ...\n",
       "4561        4561  Not Cancer  (964).jpg  normal   JPEG    L    (225, 225)\n",
       "4566        4566  Not Cancer  (969).jpg  normal   JPEG    L  (1024, 1024)\n",
       "4571        4571  Not Cancer  (973).jpg  normal   JPEG    L    (275, 220)\n",
       "4577        4577  Not Cancer  (979).jpg  normal   JPEG    L    (301, 275)\n",
       "4583        4583  Not Cancer  (984).jpg  normal   JPEG    L    (442, 409)\n",
       "\n",
       "[132 rows x 6 columns]"
      ]
     },
     "execution_count": 20,
     "metadata": {},
     "output_type": "execute_result"
    }
   ],
   "source": [
    "df[df[\"mode\"]==\"L\"]"
   ]
  },
  {
   "cell_type": "code",
   "execution_count": 44,
   "id": "8db702ae",
   "metadata": {},
   "outputs": [],
   "source": [
    "def preprocessing(name, tumor):\n",
    "    if tumor == \"tumor\":\n",
    "        path = \"Brain Tumor/\"\n",
    "    elif tummor == \"normal\":\n",
    "        path = \"Healthy/\"\n",
    "    #img = cv2.imread(\"archive/Brain Tumor Data Set/Brain Tumor Data Set/\"+path+name, 0)\n",
    "    \n",
    "    return \"archive/Brain Tumor Data Set/Brain Tumor Data Set/\"+path+name"
   ]
  },
  {
   "cell_type": "code",
   "execution_count": 34,
   "id": "ec96d0a6",
   "metadata": {},
   "outputs": [
    {
     "data": {
      "text/plain": [
       "<matplotlib.image.AxesImage at 0x7f8fedb0b0d0>"
      ]
     },
     "execution_count": 34,
     "metadata": {},
     "output_type": "execute_result"
    },
    {
     "data": {
      "image/png": "[encoded data removed]",
      "text/plain": [
       "<Figure size 432x288 with 1 Axes>"
      ]
     },
     "metadata": {
      "needs_background": "light"
     },
     "output_type": "display_data"
    }
   ],
   "source": [
    "imagen = preprocessing(\"Cancer (1).png\", \"tumor\")\n",
    "plt.imshow(imagen, cmap=\"gray\")"
   ]
  },
  {
   "cell_type": "code",
   "execution_count": null,
   "id": "0e7db669",
   "metadata": {},
   "outputs": [],
   "source": []
  }
 ],
 "metadata": {
  "kernelspec": {
   "display_name": "Python 3",
   "language": "python",
   "name": "python3"
  },
  "language_info": {
   "codemirror_mode": {
    "name": "ipython",
    "version": 3
   },
   "file_extension": ".py",
   "mimetype": "text/x-python",
   "name": "python",
   "nbconvert_exporter": "python",
   "pygments_lexer": "ipython3",
   "version": "3.8.8"
  }
 },
 "nbformat": 4,
 "nbformat_minor": 5
}
