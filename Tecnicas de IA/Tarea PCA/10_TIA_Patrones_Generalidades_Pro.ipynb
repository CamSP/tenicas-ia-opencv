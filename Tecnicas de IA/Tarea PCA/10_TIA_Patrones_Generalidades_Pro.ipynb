{
 "cells": [
  {
   "cell_type": "markdown",
   "metadata": {},
   "source": [
    "<p style=\"font-size:300%; background-color:pink; color:blue; text-align:center;line-height : 80px; margin : 0; padding : 0;\">\n",
    "Reconocimiento de Patrones - Generalidades</p>\n",
    "<p style=\"font-size:240%; background-color:pink; color:red; text-align:center;line-height : 60px; margin : 0; padding : 0;\">\n",
    "Técnicas de Inteligencia Artificial - Visión de Máquina</p1>\n",
    "\n",
    "<p style=\"font-size:200%; text-align:center; line-height : 40px;  margin-top : 0; margin-bottom : 0; \"> <br>Prof. Daniel Vargas Medina</p>\n",
    "<p style=\"font-size:160%; text-align:center; line-height : 20px; margin-top : 0; \"> email: davargasme@unal.edu.co</p>\n",
    "<p style=\"font-size:180%; text-align:center; line-height : 30px;  margin-top : 0; margin-bottom : 0; \"> <br><br>INGENIERIA MECATRONICA</p>\n",
    "<p style=\"font-size:180%; text-align:center; line-height : 30px; margin-top : 0; \"> Facultad de Ingeniería</p>\n",
    "<p style=\"font-size:160%; text-align:center; line-height : 30px; margin-top : 0; \"> Universidad Nacional de Colombia Sede Bogotá</p>\n",
    "<br>\n",
    "<img src=\"fig/Escudo_UN.png\",width=100,height=100>\n",
    "<p style=\"font-size:160%; text-align:center; line-height : 30px; margin-top : 0; \"> <br>21 de abril de 2022</p>"
   ]
  },
  {
   "cell_type": "code",
   "execution_count": 1,
   "metadata": {},
   "outputs": [
    {
     "name": "stdout",
     "output_type": "stream",
     "text": [
      "OpenCV Version : 4.5.5 \n"
     ]
    }
   ],
   "source": [
    "%matplotlib inline\n",
    "import cv2\n",
    "from matplotlib import pyplot as plt\n",
    "from matplotlib.colors import ListedColormap\n",
    "import numpy as np\n",
    "import time as t\n",
    "print (\"OpenCV Version : %s \" % cv2.__version__)\n",
    "\n",
    "from scipy import signal\n",
    "from scipy import misc\n",
    "\n",
    "from sklearn import neighbors, datasets\n"
   ]
  },
  {
   "cell_type": "markdown",
   "metadata": {},
   "source": [
    "# Promedio - Matriz de Covarianza"
   ]
  },
  {
   "cell_type": "code",
   "execution_count": 6,
   "metadata": {},
   "outputs": [
    {
     "name": "stdout",
     "output_type": "stream",
     "text": [
      "\n",
      "Datos\n",
      "[[ 98  81  38]\n",
      " [103  84  38]\n",
      " [103  86  42]\n",
      " [105  86  42]\n",
      " [109  88  44]\n",
      " [123  95  46]\n",
      " [134 100  48]\n",
      " [136 102  49]\n",
      " [123  92  50]\n",
      " [133  99  51]\n",
      " [133 102  51]\n",
      " [133 102  51]\n",
      " [138  98  51]\n",
      " [138  99  51]\n",
      " [141 105  53]\n",
      " [149 107  55]\n",
      " [153 107  56]\n",
      " [147 108  57]\n",
      " [155 117  60]\n",
      " [158 115  62]\n",
      " [155 115  63]\n",
      " [159 118  63]\n",
      " [162 124  61]\n",
      " [177 132  67]]\n",
      "\n",
      "Promedio\n",
      "[136.04166667 102.58333333  52.04166667]\n",
      "\n",
      "Matriz de Covarianza\n",
      "[[451.51992754 270.97463768 165.95471014]\n",
      " [270.97463768 171.73188406 101.8442029 ]\n",
      " [165.95471014 101.8442029   64.73731884]]\n",
      "\n",
      "Valores propios M_Cov\n",
      "[678.36565069   6.76969724   2.8537825 ]\n",
      "\n",
      "Vectores propios M_Cov\n",
      "[[-0.81388081 -0.55489628 -0.17230248]\n",
      " [-0.4961059   0.81802677 -0.29105178]\n",
      " [-0.30245159  0.15140118  0.94106361]]\n",
      "\n",
      "Matriz de Dispersión\n",
      "[[10384.95833333  6232.41666667  3816.95833333]\n",
      " [ 6232.41666667  3949.83333333  2342.41666667]\n",
      " [ 3816.95833333  2342.41666667  1488.95833333]]\n",
      "\n",
      "Valores propios M_Dis\n",
      "[15602.40996593   155.70303655    65.63699753]\n",
      "\n",
      "Vectores propios M_Dis\n",
      "[[-0.81388081 -0.55489628 -0.17230248]\n",
      " [-0.4961059   0.81802677 -0.29105178]\n",
      " [-0.30245159  0.15140118  0.94106361]]\n"
     ]
    }
   ],
   "source": [
    "from pylab import plot,subplot,axis,stem,show,figure\n",
    "from numpy import mean,cov,double,cumsum,dot,linalg,array\n",
    "\n",
    "#Datos = np.array([ [2.5,2.4], [0.5,0.7], [2.2,2.9], [1.9,2.2], [3.1,3.0], [2.3,2.7],\n",
    "             #[2.0,1.6], [1.0,1.1], [1.5,1.6], [1.1,0.9]])\n",
    "\n",
    "Datos = np.array([ [98,81,38], [103,84,38], [103,86,42], [105,86,42], [109,88,44], [123,95,46],\n",
    "     [134,100,48], [136,102,49], [123,92,50], [133,99,51], [133,102,51] , [133,102,51],\n",
    "     [138,98,51], [138,99,51], [141,105,53], [149,107,55], [153,107,56], [147,108,57], \n",
    "     [155,117,60], [158,115,62], [155,115,63], [159,118,63], [162,124,61], [177,132,67]])\n",
    "\n",
    "A = Datos.shape[0]\n",
    "B = Datos.shape[1]\n",
    "\n",
    "print (\"\\nDatos\")\n",
    "print (Datos)\n",
    "print (\"\\nPromedio\")\n",
    "m = np.mean(Datos, axis=0)\n",
    "print (m)\n",
    "print (\"\\nMatriz de Covarianza\")\n",
    "covM = np.cov(Datos.transpose())\n",
    "print (covM)\n",
    "eigVal, eigVec = np.linalg.eig(covM) \n",
    "print (\"\\nValores propios M_Cov\")\n",
    "print (eigVal)\n",
    "print (\"\\nVectores propios M_Cov\") \n",
    "print (eigVec) # Vectores propios organizados por columnas en una matriz\n",
    "\n",
    "\n",
    "print (\"\\nMatriz de Dispersión\")\n",
    "disM = (A-1)*covM\n",
    "print (disM)\n",
    "eigVal2, eigVec2 = np.linalg.eig(disM) \n",
    "print (\"\\nValores propios M_Dis\")\n",
    "print (eigVal2)\n",
    "print (\"\\nVectores propios M_Dis\") \n",
    "print (eigVec2) # Vectores propios organizados por columnas en una matriz\n"
   ]
  },
  {
   "cell_type": "markdown",
   "metadata": {},
   "source": [
    "# Comprobación valores y vectores propios\n",
    "\n",
    "$C v_i = \\lambda_i v_i$"
   ]
  },
  {
   "cell_type": "code",
   "execution_count": 3,
   "metadata": {},
   "outputs": [
    {
     "name": "stdout",
     "output_type": "stream",
     "text": [
      "\n",
      "ValA = [-0.87040823 -0.94398977]\n"
     ]
    }
   ],
   "source": [
    "ValA = dot(covM,eigVec[:,1].transpose())\n",
    "print (\"\\nValA =\",ValA)\n"
   ]
  },
  {
   "cell_type": "code",
   "execution_count": 4,
   "metadata": {},
   "outputs": [
    {
     "name": "stdout",
     "output_type": "stream",
     "text": [
      "\n",
      "ValB = [-0.87040823 -0.94398977]\n"
     ]
    }
   ],
   "source": [
    "ValB = dot(eigVal[1],eigVec[:,1].transpose())\n",
    "print (\"\\nValB =\",ValB)"
   ]
  },
  {
   "cell_type": "markdown",
   "metadata": {},
   "source": [
    "# Transformación de Puntos - Reducción Dimensionalidad Datos"
   ]
  },
  {
   "cell_type": "code",
   "execution_count": 8,
   "metadata": {
    "scrolled": true
   },
   "outputs": [
    {
     "name": "stdout",
     "output_type": "stream",
     "text": [
      "[-0.81388081 -0.4961059  -0.30245159]\n",
      "\n",
      "Datos transformados1\n",
      "[-131.43805755 -136.9957793  -139.19779745 -140.82555907 -145.67819729\n",
      " -161.15017311 -173.1882947  -176.11071971 -160.87166178 -172.78566276\n",
      " -174.27398045 -174.27398045 -176.35896092 -176.85506682 -182.87824781\n",
      " -190.98640928 -194.54438411 -190.45965673 -202.34301106 -204.39734488\n",
      " -202.25815403 -207.00199497 -211.8153696  -229.80713849]\n",
      "\n",
      "Datos transformados2\n",
      "[17.63357824 17.31317716 19.55483544 18.44504288 18.16431367 16.42475555\n",
      " 14.71383271 15.39149488 14.57627995 14.90490576 17.35898608 17.35898608\n",
      " 11.3123976  12.13042437 15.67669854 13.17638422 11.10820028 15.40700591\n",
      " 18.78428019 15.78634017 17.60243018 17.83692539 20.77759483 19.90677193]\n",
      "\n",
      "Datos transformados3\n",
      "[-4.70041966 -6.43508738 -3.25293649 -3.59754145 -2.9867277  -5.55419762\n",
      " -7.02265655 -7.00830145 -0.91678784 -3.73611146 -4.60926679 -4.60926679\n",
      " -4.30657207 -4.59762385 -4.97871473 -5.05711089 -4.80525719 -3.12143049\n",
      " -4.29612548 -2.34880214 -0.8908311  -2.45319634 -6.59854166 -5.86511139]\n",
      "\n",
      "Datos DOS dimensiones\n",
      "[-131.43805755 -136.9957793  -139.19779745 -140.82555907 -145.67819729\n",
      " -161.15017311 -173.1882947  -176.11071971 -160.87166178 -172.78566276\n",
      " -174.27398045 -174.27398045 -176.35896092 -176.85506682 -182.87824781\n",
      " -190.98640928 -194.54438411 -190.45965673 -202.34301106 -204.39734488\n",
      " -202.25815403 -207.00199497 -211.8153696  -229.80713849   -4.70041966\n",
      "   -6.43508738   -3.25293649   -3.59754145   -2.9867277    -5.55419762\n",
      "   -7.02265655   -7.00830145   -0.91678784   -3.73611146   -4.60926679\n",
      "   -4.60926679   -4.30657207   -4.59762385   -4.97871473   -5.05711089\n",
      "   -4.80525719   -3.12143049   -4.29612548   -2.34880214   -0.8908311\n",
      "   -2.45319634   -6.59854166   -5.86511139]\n",
      "\n",
      "Datos DOS dimensiones\n",
      "[[-131.43805755   -4.70041966]\n",
      " [-136.9957793    -6.43508738]\n",
      " [-139.19779745   -3.25293649]\n",
      " [-140.82555907   -3.59754145]\n",
      " [-145.67819729   -2.9867277 ]\n",
      " [-161.15017311   -5.55419762]\n",
      " [-173.1882947    -7.02265655]\n",
      " [-176.11071971   -7.00830145]\n",
      " [-160.87166178   -0.91678784]\n",
      " [-172.78566276   -3.73611146]\n",
      " [-174.27398045   -4.60926679]\n",
      " [-174.27398045   -4.60926679]\n",
      " [-176.35896092   -4.30657207]\n",
      " [-176.85506682   -4.59762385]\n",
      " [-182.87824781   -4.97871473]\n",
      " [-190.98640928   -5.05711089]\n",
      " [-194.54438411   -4.80525719]\n",
      " [-190.45965673   -3.12143049]\n",
      " [-202.34301106   -4.29612548]\n",
      " [-204.39734488   -2.34880214]\n",
      " [-202.25815403   -0.8908311 ]\n",
      " [-207.00199497   -2.45319634]\n",
      " [-211.8153696    -6.59854166]\n",
      " [-229.80713849   -5.86511139]]\n"
     ]
    }
   ],
   "source": [
    "print (eigVec[:,0])\n",
    "\n",
    "#Transformacion puntos, proyección al nuevo espacio\n",
    "DatosTransformados1 = dot(Datos,eigVec[:,0].transpose())\n",
    "print (\"\\nDatos transformados1\")\n",
    "print (DatosTransformados1)\n",
    "\n",
    "DatosTransformados2 = dot(Datos,eigVec[:,1].transpose())\n",
    "print (\"\\nDatos transformados2\")\n",
    "print (DatosTransformados2)\n",
    "\n",
    "DatosTransformados3 = dot(Datos,eigVec[:,2].transpose())\n",
    "print (\"\\nDatos transformados3\")\n",
    "print (DatosTransformados3)\n",
    "\n",
    "#V = list(zip(DatosTransformados1,DatosTransformados2))\n",
    "V = np.concatenate((DatosTransformados1.transpose(), DatosTransformados3.transpose()), axis=0)\n",
    "print (\"\\nDatos DOS dimensiones\")\n",
    "print(V)\n",
    "\n",
    "V2 = np.zeros((A, B-1), np.double)\n",
    "\n",
    "for i in range (A):\n",
    "    for j in range (B-1):\n",
    "        V2[i, j] = V[i + A*j]\n",
    "        \n",
    "        \n",
    "print (\"\\nDatos DOS dimensiones\")\n",
    "print(V2)"
   ]
  },
  {
   "cell_type": "code",
   "execution_count": 9,
   "metadata": {},
   "outputs": [
    {
     "data": {
      "image/png": "[encoded data removed]",
      "text/plain": [
       "<Figure size 432x288 with 1 Axes>"
      ]
     },
     "metadata": {
      "needs_background": "light"
     },
     "output_type": "display_data"
    },
    {
     "data": {
      "image/png": "[encoded data removed]",
      "text/plain": [
       "<Figure size 432x288 with 1 Axes>"
      ]
     },
     "metadata": {
      "needs_background": "light"
     },
     "output_type": "display_data"
    }
   ],
   "source": [
    "figure()\n",
    "plot(Datos[:,0],Datos[:,1],'ob') # the data\n",
    "axis('equal')\n",
    "show()\n",
    "\n",
    "figure()\n",
    "plot(V2[:,0],V2[:,1],'ob') # the data\n",
    "axis('equal')\n",
    "show()"
   ]
  },
  {
   "cell_type": "markdown",
   "metadata": {},
   "source": [
    "# CLASIFICADOR DISTANCIA EUCLIDEA\n",
    "\n",
    "\n",
    "<h2>Nearest Neighbors Classification</h2>\n",
    "\n",
    "* Usa solo un vecino, los datos corresponden a los centroides\n",
    "\n",
    "http://scikit-learn.org/stable/auto_examples/neighbors/plot_classification.html#sphx-glr-auto-examples-neighbors-plot-classification-py\n",
    "\n",
    "* Sample usage of Nearest Neighbors classification.\n",
    "* It will plot the decision boundaries for each class.\n"
   ]
  },
  {
   "cell_type": "code",
   "execution_count": 11,
   "metadata": {},
   "outputs": [
    {
     "data": {
      "image/png": "[encoded data removed]",
      "text/plain": [
       "<Figure size 432x288 with 1 Axes>"
      ]
     },
     "metadata": {
      "needs_background": "light"
     },
     "output_type": "display_data"
    }
   ],
   "source": [
    "#Datos\n",
    "\n",
    "n_neighbors = 1\n",
    "\n",
    "X = np.array([[1,1], [3,5], [7,2]])\n",
    "Y = np.array([1, 2, 3])\n",
    "\n",
    "#X = np.array([[1,1], [3,5], [7,2], [10,8], [5,4]])\n",
    "#y = np.array([1, 2, 3, 4, 5])\n",
    "\n",
    "h = .02  # step size in the mesh\n",
    "\n",
    "\n",
    "# VISUALIZACION\n",
    "# Create color maps\n",
    "cmap_light = ListedColormap(['#FFAAAA', '#AAFFAA', '#AAAAFF', '#FFFFAA', '#FFAAFF'])\n",
    "cmap_bold = ListedColormap(['#FF0000', '#00FF00', '#0000FF', '#FFFF00', '#FF00FF'])\n",
    "\n",
    "\n",
    "# we create an instance of Neighbours Classifier and fit the data.\n",
    "clf = neighbors.KNeighborsClassifier(n_neighbors, weights='uniform')\n",
    "clf.fit(X, Y)\n",
    "\n",
    "\n",
    "# Plot the decision boundary. For that, we will assign a color to each\n",
    "# point in the mesh [x_min, x_max]x[y_min, y_max].\n",
    "x_min, x_max = X[:, 0].min() - 1, X[:, 0].max() + 1\n",
    "y_min, y_max = X[:, 1].min() - 1, X[:, 1].max() + 1\n",
    "xx, yy = np.meshgrid(np.arange(x_min, x_max, h),\n",
    "                        np.arange(y_min, y_max, h))\n",
    "Z = clf.predict(np.c_[xx.ravel(), yy.ravel()])\n",
    "\n",
    "\n",
    "# Put the result into a color plot\n",
    "Z = Z.reshape(xx.shape)\n",
    "\n",
    "plt.figure()\n",
    "plt.pcolormesh(xx, yy, Z, cmap=cmap_light, shading='auto')\n",
    "\n",
    "# Plot also the training points\n",
    "plt.scatter(X[:, 0], X[:, 1], c=Y, cmap=cmap_bold)\n",
    "plt.xlim(xx.min(), xx.max())\n",
    "plt.ylim(yy.min(), yy.max())\n",
    "plt.title(\"Clasificador de Distancia Euclidea\")\n",
    "\n",
    "plt.show()\n",
    "\n"
   ]
  },
  {
   "cell_type": "markdown",
   "metadata": {},
   "source": [
    "# PCA en OpenCV\n",
    "\n",
    "http://docs.opencv.org/2.4/modules/core/doc/operations_on_arrays.html?highlight=cv2.pcacompute#pca\n",
    "\n",
    "cv2.PCACompute(data[, mean[, eigenvectors[, maxComponents]]]) → mean, eigenvectors\n"
   ]
  },
  {
   "cell_type": "code",
   "execution_count": 94,
   "metadata": {},
   "outputs": [
    {
     "name": "stdout",
     "output_type": "stream",
     "text": [
      "\n",
      "Media\n",
      "[[136.04166667 102.58333333  52.04166667]]\n",
      "\n",
      "EigenVectors\n",
      "[[ 0.81388081  0.4961059   0.30245159]\n",
      " [-0.55489628  0.81802677  0.15140118]\n",
      " [-0.17230248 -0.29105178  0.94106361]]\n",
      "\n",
      "Valores propios\n",
      "678.365650692396\n",
      "6.769697241098444\n",
      "2.853782501288085\n"
     ]
    }
   ],
   "source": [
    "mean = np.empty((0))\n",
    "mean, eigvector  = cv2.PCACompute(Datos.astype(double), mean)\n",
    "\n",
    "print (\"\\nMedia\")\n",
    "print (mean)\n",
    "print (\"\\nEigenVectors\") # Mostrados en Filas\n",
    "print (eigvector)\n",
    "\n",
    "print (\"\\nValores propios\")\n",
    "MC = np.cov(Datos.transpose())  \n",
    "for i in range (eigvector.shape[0]):\n",
    "    eigenValue = np.dot(np.dot(eigvector[i].transpose(), MC), eigvector[i])/ np.dot(eigvector[i].transpose(), eigvector[i])\n",
    "    print (eigenValue)"
   ]
  },
  {
   "cell_type": "code",
   "execution_count": 12,
   "metadata": {},
   "outputs": [
    {
     "name": "stdout",
     "output_type": "stream",
     "text": [
      "\n",
      "Media\n",
      "[[1.81 1.91]]\n",
      "\n",
      "EigenVectors\n",
      "[[ 0.6778734   0.73517866]\n",
      " [ 0.73517866 -0.6778734 ]]\n",
      "\n",
      "Valores propios\n",
      "1.2840277121727839\n",
      "0.049083398938327374\n",
      "\n",
      "Datos transformados\n",
      "[[ 3.45911227  0.21105048]\n",
      " [ 0.85356176 -0.10692205]\n",
      " [ 3.62333958 -0.34843981]\n",
      " [ 2.9053525  -0.09448203]\n",
      " [ 4.3069435   0.24543364]\n",
      " [ 3.54409119 -0.13934727]\n",
      " [ 2.53203265  0.38575987]\n",
      " [ 1.48656992 -0.01048208]\n",
      " [ 2.19309595  0.01817055]\n",
      " [ 1.40732153  0.19861046]]\n"
     ]
    }
   ],
   "source": [
    "Datos = np.array([ [2.5,2.4], [0.5,0.7], [2.2,2.9], [1.9,2.2], [3.1,3.0], [2.3,2.7],\n",
    "             [2.0,1.6], [1.0,1.1], [1.5,1.6], [1.1,0.9]])\n",
    "\n",
    "A = np.array([ [2.4,0.7,2.9,2.2,3.0,2.7,1.6,1.1,1.6,0.9],\n",
    "            [2.5,0.5,2.2,1.9,3.1,2.3,2,1,1.5,1.1] ])\n",
    "\n",
    "mean = np.empty((0))\n",
    "mean, eigenvector  = cv2.PCACompute(Datos.astype(double), mean)\n",
    "#mean, eigenvector = cv2.PCACompute(A.transpose(), mean)\n",
    "\n",
    "print (\"\\nMedia\")\n",
    "print (mean)\n",
    "print (\"\\nEigenVectors\") # Mostrados en Filas\n",
    "print (eigenvector)\n",
    "\n",
    "print (\"\\nValores propios\")\n",
    "MC = np.cov(Datos.transpose())  \n",
    "for i in range (eigenvector.shape[0]):\n",
    "    eigenValue = np.dot(np.dot(eigenvector[i].transpose(), MC), eigenvector[i])/ np.dot(eigenvector[i].transpose(), eigenvector[i])\n",
    "    print (eigenValue)\n",
    "\n",
    "#Transformacion puntos, proyección al nuevo espacio\n",
    "DatosTransformados = dot(Datos,eigenvector.transpose())\n",
    "print (\"\\nDatos transformados\")\n",
    "print (DatosTransformados)"
   ]
  },
  {
   "cell_type": "code",
   "execution_count": 104,
   "metadata": {},
   "outputs": [
    {
     "data": {
      "image/png": "[encoded data removed]",
      "text/plain": [
       "<Figure size 432x288 with 1 Axes>"
      ]
     },
     "metadata": {
      "needs_background": "light"
     },
     "output_type": "display_data"
    }
   ],
   "source": [
    "figure()\n",
    "plot([-eigenvector[0,0]*2, eigenvector[0,0]*2]+mean[0,0], \n",
    "     [-eigenvector[0,1]*2, eigenvector[0,1]*2]+mean[0,1],'--r')\n",
    "plot([-eigenvector[1,0]*2, eigenvector[1,0]*2]+mean[0,0], \n",
    "     [-eigenvector[1,1]*2, eigenvector[1,1]*2]+mean[0,1],'--k')\n",
    "plot(Datos[:,0],Datos[:,1],'ob') # the data\n",
    "axis('equal')\n",
    "show()"
   ]
  },
  {
   "cell_type": "markdown",
   "metadata": {},
   "source": [
    "# Problema cv2.PCACompute no retorna valores propios\n",
    "\n",
    "\n",
    "# PCA Usando numpy.linag.eig\n",
    "\n",
    "* Retorna los valores propios pero no ordenados\n",
    "\n",
    "https://docs.scipy.org/doc/numpy/reference/generated/numpy.linalg.eig.html\n",
    "\n",
    "http://glowingpython.blogspot.com.co/2011/07/principal-component-analysis-with-numpy.html"
   ]
  },
  {
   "cell_type": "code",
   "execution_count": 106,
   "metadata": {},
   "outputs": [
    {
     "name": "stdout",
     "output_type": "stream",
     "text": [
      "\n",
      "Matriz de Covarianza\n",
      "[[0.61655556 0.61544444]\n",
      " [0.61544444 0.71655556]]\n",
      "\n",
      "Valores Propios (No ordenados)\n",
      "[0.0490834  1.28402771]\n",
      "\n",
      "Vectores Propios\n",
      "[[-0.73517866 -0.6778734 ]\n",
      " [ 0.6778734  -0.73517866]]\n",
      "\n",
      "Datos transformados\n",
      "[[-3.4648428  -0.06974528]\n",
      " [-0.84210071 -0.17568836]\n",
      " [-3.5832259  -0.64069662]\n",
      " [-2.88816092 -0.32943358]\n",
      " [-4.31267403 -0.10412843]\n",
      " [-3.52116908 -0.42587355]\n",
      " [-2.55495475  0.17946095]\n",
      " [-1.48083939 -0.13082312]\n",
      " [-2.18736542 -0.15947575]\n",
      " [-1.41878258  0.08399995]]\n"
     ]
    },
    {
     "data": {
      "image/png": "[encoded data removed]",
      "text/plain": [
       "<Figure size 432x288 with 2 Axes>"
      ]
     },
     "metadata": {
      "needs_background": "light"
     },
     "output_type": "display_data"
    }
   ],
   "source": [
    "A = np.array([ [2.4,0.7,2.9,2.2,3.0,2.7,1.6,1.1,1.6,0.9],\n",
    "            [2.5,0.5,2.2,1.9,3.1,2.3,2,1,1.5,1.1] ])\n",
    "\n",
    "Datos = np.array([ [2.5,2.4], [0.5,0.7], [2.2,2.9], [1.9,2.2], [3.1,3.0], [2.3,2.7],\n",
    "             [2.0,1.6], [1.0,1.1], [1.5,1.6], [1.1,0.9]])\n",
    "\n",
    "# Calcula la matriz de covarianza\n",
    "MC = np.cov(Datos.transpose())  \n",
    "print (\"\\nMatriz de Covarianza\")\n",
    "print (MC)  \n",
    "\n",
    "#Calcula Los Valores y Vectores propios\n",
    "[EVal,EVec] = linalg.eig(MC) # attention:not always sorted\n",
    "\n",
    "print (\"\\nValores Propios (No ordenados)\")\n",
    "print (EVal)\n",
    "print (\"\\nVectores Propios\") # Mostrados en Columnas\n",
    "print (EVec)\n",
    "\n",
    "#Transformacion puntos, proyección al nuevo espacio\n",
    "DatosTransformados = dot(Datos,EVec.transpose())\n",
    "print (\"\\nDatos transformados\")\n",
    "print (DatosTransformados)\n",
    "\n",
    "figure()\n",
    "subplot(121)\n",
    "# every eigenvector describe the direction\n",
    "# of a principal component.\n",
    "m = np.mean(Datos, axis=0)\n",
    "plot([0, -EVec[0,0]*2]+m[0], [0, -EVec[0,1]*2]+m[1],'--k')\n",
    "plot([0, EVec[1,0]*2]+m[0], [0, EVec[1,1]*2]+m[1],'--k')\n",
    "plot(Datos[:,0],Datos[:,1],'ob') # the data\n",
    "axis('equal')\n",
    "subplot(122)\n",
    "# new data\n",
    "plot(DatosTransformados[:,0],DatosTransformados[:,1],'*r')\n",
    "axis('equal')\n",
    "show()"
   ]
  },
  {
   "cell_type": "markdown",
   "metadata": {},
   "source": [
    "\n",
    "# Estandarización"
   ]
  },
  {
   "cell_type": "code",
   "execution_count": 120,
   "metadata": {},
   "outputs": [
    {
     "name": "stdout",
     "output_type": "stream",
     "text": [
      "\n",
      "Datos Modificados\n",
      "\n",
      "Media\n",
      "[ 9.99200722e-16  5.92118946e-16 -1.48029737e-16]\n",
      "\n",
      "Desviación Estándar\n",
      "[1. 1. 1.]\n",
      "\n",
      "Matriz de Dispersión\n",
      "[[24.         23.35478951 23.29619588]\n",
      " [23.35478951 24.         23.18167077]\n",
      " [23.29619588 23.18167077 24.        ]]\n",
      "\n",
      "Valores propios M_Dis\n",
      "[70.55517806  0.62071745  0.82410448]\n",
      "\n",
      "Vectores propios M_Dis\n",
      "[[ 0.57814172  0.80428526 -0.13739494]\n",
      " [ 0.57719697 -0.52215906 -0.62784837]\n",
      " [ 0.5767112  -0.2836814   0.76611295]]\n"
     ]
    }
   ],
   "source": [
    "#Datos = np.array([ [2.5,2.4], [0.5,0.7], [2.2,2.9], [1.9,2.2], [3.1,3.0], [2.3,2.7],\n",
    "             #[2.0,1.6], [1.0,1.1], [1.5,1.6], [1.1,0.9]])\n",
    "\n",
    "Datos = np.array([ [98,81,38], [103,84,38], [103,86,42], [105,86,42], [109,88,44], [123,95,46],\n",
    "     [134,100,48], [136,102,49], [123,92,50], [133,99,51], [133,102,51] , [133,102,51],\n",
    "     [138,98,51], [138,99,51], [141,105,53], [149,107,55], [153,107,56], [147,108,57], \n",
    "     [155,117,60], [158,115,62], [155,115,63], [159,118,63], [162,124,61], [177,132,67]])\n",
    "\n",
    "A = Datos.shape[0]\n",
    "B = Datos.shape[1]\n",
    "\n",
    "print (\"\\nDatos Modificados\")\n",
    "m = np.mean(Datos, axis=0, dtype=double)\n",
    "sigma = np.std(Datos, axis=0, dtype=double)\n",
    "aux = m/sigma\n",
    "DatosM = Datos/sigma - aux\n",
    "m = np.mean(DatosM, axis=0)\n",
    "print (\"\\nMedia\")\n",
    "print (m)\n",
    "sigma = np.std(DatosM, axis=0)\n",
    "print (\"\\nDesviación Estándar\")\n",
    "print (sigma)\n",
    "\n",
    "\n",
    "covM = np.cov(DatosM.transpose())\n",
    "print (\"\\nMatriz de Dispersión\")\n",
    "disM = (A-1)*covM\n",
    "print (disM)\n",
    "eigVal2, eigVec2 = np.linalg.eig(disM) \n",
    "print (\"\\nValores propios M_Dis\")\n",
    "print (eigVal2)\n",
    "print (\"\\nVectores propios M_Dis\") \n",
    "print (eigVec2) # Vectores propios organizados por columnas en una matriz\n"
   ]
  },
  {
   "cell_type": "markdown",
   "metadata": {},
   "source": [
    "<h1 style=\"font-size:250%; background-color:rgba(70, 0, 700, 0.2); color:black; text-align:center; line-height : 80px;\">\n",
    "OTROS</h1>\n"
   ]
  },
  {
   "cell_type": "markdown",
   "metadata": {},
   "source": [
    "\n",
    "# PCA y LDA\n",
    "\n",
    "http://scikit-learn.org/stable/auto_examples/decomposition/plot_pca_vs_lda.html"
   ]
  },
  {
   "cell_type": "code",
   "execution_count": 97,
   "metadata": {},
   "outputs": [
    {
     "name": "stdout",
     "output_type": "stream",
     "text": [
      "Automatically created module for IPython interactive environment\n",
      "explained variance ratio (first two components): [ 0.92461621  0.05301557]\n"
     ]
    },
    {
     "data": {
      "image/png": "[encoded data removed]",
      "text/plain": [
       "<matplotlib.figure.Figure at 0x11e65a990>"
      ]
     },
     "metadata": {},
     "output_type": "display_data"
    },
    {
     "data": {
      "image/png": "[encoded data removed]",
      "text/plain": [
       "<matplotlib.figure.Figure at 0x114e06790>"
      ]
     },
     "metadata": {},
     "output_type": "display_data"
    }
   ],
   "source": [
    "print(__doc__)\n",
    "\n",
    "import matplotlib.pyplot as plt\n",
    "\n",
    "from sklearn import datasets\n",
    "from sklearn.decomposition import PCA\n",
    "from sklearn.discriminant_analysis import LinearDiscriminantAnalysis\n",
    "\n",
    "iris = datasets.load_iris()\n",
    "\n",
    "X = iris.data\n",
    "y = iris.target\n",
    "target_names = iris.target_names\n",
    "\n",
    "pca = PCA(n_components=2)\n",
    "X_r = pca.fit(X).transform(X)\n",
    "\n",
    "lda = LinearDiscriminantAnalysis(n_components=2)\n",
    "X_r2 = lda.fit(X, y).transform(X)\n",
    "\n",
    "# Percentage of variance explained for each components\n",
    "print('explained variance ratio (first two components): %s'\n",
    "      % str(pca.explained_variance_ratio_))\n",
    "\n",
    "plt.figure()\n",
    "colors = ['navy', 'turquoise', 'darkorange']\n",
    "lw = 2\n",
    "\n",
    "for color, i, target_name in zip(colors, [0, 1, 2], target_names):\n",
    "    plt.scatter(X_r[y == i, 0], X_r[y == i, 1], color=color, alpha=.8, lw=lw,\n",
    "                label=target_name)\n",
    "plt.legend(loc='best', shadow=False, scatterpoints=1)\n",
    "plt.title('PCA of IRIS dataset')\n",
    "\n",
    "plt.figure()\n",
    "for color, i, target_name in zip(colors, [0, 1, 2], target_names):\n",
    "    plt.scatter(X_r2[y == i, 0], X_r2[y == i, 1], alpha=.8, color=color,\n",
    "                label=target_name)\n",
    "plt.legend(loc='best', shadow=False, scatterpoints=1)\n",
    "plt.title('LDA of IRIS dataset')\n",
    "\n",
    "plt.show()"
   ]
  },
  {
   "cell_type": "markdown",
   "metadata": {},
   "source": []
  },
  {
   "cell_type": "code",
   "execution_count": null,
   "metadata": {},
   "outputs": [],
   "source": []
  },
  {
   "cell_type": "code",
   "execution_count": null,
   "metadata": {
    "collapsed": true
   },
   "outputs": [],
   "source": []
  }
 ],
 "metadata": {
  "anaconda-cloud": {},
  "kernelspec": {
   "display_name": "Python 3 (ipykernel)",
   "language": "python",
   "name": "python3"
  },
  "language_info": {
   "codemirror_mode": {
    "name": "ipython",
    "version": 3
   },
   "file_extension": ".py",
   "mimetype": "text/x-python",
   "name": "python",
   "nbconvert_exporter": "python",
   "pygments_lexer": "ipython3",
   "version": "3.9.7"
  }
 },
 "nbformat": 4,
 "nbformat_minor": 1
}
